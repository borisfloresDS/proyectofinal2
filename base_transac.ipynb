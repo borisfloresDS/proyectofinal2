{
 "cells": [
  {
   "cell_type": "code",
   "execution_count": 1,
   "metadata": {},
   "outputs": [],
   "source": [
    "import boto3\n",
    "import pandas as pd\n",
    "import numpy as np\n",
    "import psycopg2\n",
    "import configparser"
   ]
  },
  {
   "cell_type": "markdown",
   "metadata": {},
   "source": [
    "## Leemos archivos de configuración"
   ]
  },
  {
   "cell_type": "code",
   "execution_count": 2,
   "metadata": {},
   "outputs": [
    {
     "data": {
      "text/plain": [
       "['config.cfg']"
      ]
     },
     "execution_count": 2,
     "metadata": {},
     "output_type": "execute_result"
    }
   ],
   "source": [
    "config = configparser.ConfigParser()\n",
    "config.read('config.cfg')"
   ]
  },
  {
   "cell_type": "code",
   "execution_count": 3,
   "metadata": {},
   "outputs": [],
   "source": [
    "aws_rds_conn = boto3.client('rds', aws_access_key_id = config.get('IAM', 'ACCES_KEY'), \n",
    "                              aws_secret_access_key = config.get('IAM', 'SECRET_ACCES_KEY'),\n",
    "                              region_name = 'us-east-1')"
   ]
  },
  {
   "cell_type": "code",
   "execution_count": 4,
   "metadata": {},
   "outputs": [
    {
     "name": "stdout",
     "output_type": "stream",
     "text": [
      "Instancias Disponibles: {rds_instances_ids}\n"
     ]
    }
   ],
   "source": [
    "rds_instances_ids = []\n",
    "aws_response = aws_rds_conn.describe_db_instances()\n",
    "\n",
    "for response in aws_response['DBInstances']:\n",
    "    rds_instances_ids.append(response['DBInstanceIdentifier'])\n",
    "\n",
    "print('Instancias Disponibles: {rds_instances_ids}')"
   ]
  },
  {
   "cell_type": "markdown",
   "metadata": {},
   "source": [
    "### Creamos instancia de base de datos en AWS - Postgres"
   ]
  },
  {
   "cell_type": "code",
   "execution_count": 5,
   "metadata": {},
   "outputs": [
    {
     "name": "stdout",
     "output_type": "stream",
     "text": [
      "La instancia ya existe\n"
     ]
    }
   ],
   "source": [
    "try:\n",
    "    response = aws_rds_conn.create_db_instance(\n",
    "            DBInstanceIdentifier = config.get('TRANSACC', 'DB_INSTANCE_ID'),\n",
    "            DBName = config.get('TRANSACC', 'DB_NAME'),\n",
    "            DBInstanceClass = 'db.t3.micro',\n",
    "            Engine = 'postgres',\n",
    "            MasterUsername = config.get('TRANSACC', 'DB_USER'),\n",
    "            MasterUserPassword = config.get('TRANSACC', 'DB_PASSWORD'),\n",
    "            Port = int(config.get('TRANSACC', 'DB_PORT')),\n",
    "            PubliclyAccessible = True,\n",
    "            VpcSecurityGroupIds = [config.get('VPC', 'SECURITY_GROUP')],\n",
    "            AllocatedStorage = 15\n",
    "        )\n",
    "    print(response)\n",
    "except aws_rds_conn.exceptions.DBInstanceAlreadyExistsFault as ex:\n",
    "    print('La instancia ya existe')\n",
    "except Exception as ex:\n",
    "    print('Error!', ex)"
   ]
  },
  {
   "cell_type": "markdown",
   "metadata": {},
   "source": [
    "### Obtener URL hostname de la instancia"
   ]
  },
  {
   "cell_type": "code",
   "execution_count": 6,
   "metadata": {},
   "outputs": [
    {
     "name": "stdout",
     "output_type": "stream",
     "text": [
      "e-dreams-transactional.cfum2oeu0d6b.us-east-1.rds.amazonaws.com\n"
     ]
    }
   ],
   "source": [
    "try:\n",
    "\n",
    "    instance = aws_rds_conn.describe_db_instances(DBInstanceIdentifier = config.get('TRANSACC', 'DB_INSTANCE_ID'))\n",
    "    RDS_HOSTNAME = instance.get('DBInstances')[0].get('Endpoint').get('Address')\n",
    "    print(RDS_HOSTNAME)\n",
    "\n",
    "except Exception as ex:\n",
    "    print('Error!!!', ex)\n"
   ]
  },
  {
   "cell_type": "markdown",
   "metadata": {},
   "source": [
    "### Nos conectamos a la base de datos"
   ]
  },
  {
   "cell_type": "code",
   "execution_count": 25,
   "metadata": {},
   "outputs": [
    {
     "data": {
      "text/plain": [
       "'\\nCREATE TABLE IF NOT EXISTS categoria(\\n    id_categoria INT PRIMARY KEY,\\n    nombre VARCHAR(50) UNIQUE,\\n    descripcion VARCHAR(255),\\n    estado_categoria BOOLEAN\\n);\\n\\nCREATE TABLE IF NOT EXISTS articulo(\\n    id_articulo INT PRIMARY KEY,\\n    id_categoria INT REFERENCES categoria(id_categoria),\\n    codigo VARCHAR(50),\\n    nombre VARCHAR(100),\\n    precio_venta NUMERIC(11,2),\\n    stock INT,\\n    descripcion VARCHAR(255),\\n    imagen VARCHAR(20),\\n    estado_articulo BOOLEAN\\n);\\n\\nCREATE TABLE IF NOT EXISTS persona(\\n    id_persona INT PRIMARY KEY,\\n    tipo_persona VARCHAR(20),\\n    nombre VARCHAR(100),\\n    tipo_documento VARCHAR(20),\\n    num_documento VARCHAR(20),\\n    direccion VARCHAR(20),\\n    telefono VARCHAR(20),\\n    email VARCHAR(20)\\n);\\n\\nCREATE TABLE IF NOT EXISTS rol(\\n    id_rol INT PRIMARY KEY,\\n    nombre VARCHAR(30),\\n    descripcion VARCHAR(30),\\n    estado_rol BOOLEAN\\n);\\n\\nCREATE TABLE IF NOT EXISTS usuario(\\n    id_usuario INT PRIMARY KEY,\\n    id_rol INT REFERENCES rol(id_rol),\\n    nombre VARCHAR(100),\\n    tipo_documento VARCHAR(20),\\n    num_documento VARCHAR(20),\\n    direccion VARCHAR(20),\\n    telefono VARCHAR(20),\\n    email VARCHAR(20),\\n    clave BYTEA,\\n    estado_usuario BOOLEAN\\n);\\n\\nCREATE TABLE IF NOT EXISTS ingreso(\\n    id_ingreso INT PRIMARY KEY,\\n    id_proveedor INT REFERENCES persona(id_persona),\\n    id_usuario INT REFERENCES usuario(id_usuario),\\n    tipo_comprobante VARCHAR(20),\\n    serie_comprobante VARCHAR(7),\\n    num_comprobante VARCHAR(10),\\n    fecha TIMESTAMP,\\n    impuesto NUMERIC(4,2),\\n    total NUMERIC(11,2),\\n    estado_venta VARCHAR(20)\\n);\\n\\nCREATE TABLE IF NOT EXISTS detalle_ingreso(\\n    id_detalle_ingreso INT PRIMARY KEY,\\n    id_ingreso INT REFERENCES ingreso(id_ingreso),\\n    id_articulo INT REFERENCES articulo(id_articulo),\\n    cantidad INT,\\n    precio_unitario NUMERIC(11,2)\\n);\\n\\nCREATE TABLE IF NOT EXISTS venta(\\n    id_venta INT PRIMARY KEY,\\n    id_cliente INT,\\n    id_usuario INT REFERENCES usuario(id_usuario),\\n    id_persona INT REFERENCES persona(id_persona),\\n    tipo_comprobante VARCHAR(20),\\n    serie_comprobante VARCHAR(7),\\n    num_comprobante VARCHAR(10),\\n    fecha TIMESTAMP,\\n    impuesto NUMERIC(4,2),\\n    total NUMERIC(11,2),\\n    estado_venta VARCHAR(20)\\n);\\n\\nCREATE TABLE IF NOT EXISTS detalle_venta(\\n    id_detalle_venta INT PRIMARY KEY,\\n    id_venta INT REFERENCES venta(id_venta),\\n    id_articulo INT REFERENCES articulo(id_articulo),\\n    cantidad INT,\\n    precio NUMERIC(11,2),\\n    descuento NUMERIC(11,2)\\n);\\n\\n'"
      ]
     },
     "execution_count": 25,
     "metadata": {},
     "output_type": "execute_result"
    }
   ],
   "source": [
    "import sql_queries_e\n",
    "sql_queries_e.DDL_QUERY"
   ]
  },
  {
   "cell_type": "code",
   "execution_count": 26,
   "metadata": {},
   "outputs": [
    {
     "name": "stdout",
     "output_type": "stream",
     "text": [
      "Base de Datos Creada Exitosamente\n"
     ]
    }
   ],
   "source": [
    "try:\n",
    "    db_pg_conn = psycopg2.connect(\n",
    "            database =config.get('TRANSACC', 'DB_NAME'),\n",
    "            user = config.get('TRANSACC', 'DB_USER'),\n",
    "            password = config.get('TRANSACC', 'DB_PASSWORD'),\n",
    "            host = RDS_HOSTNAME,\n",
    "            port = int(config.get('TRANSACC', 'DB_PORT')),\n",
    "    )\n",
    "\n",
    "    cursor = db_pg_conn.cursor()\n",
    "    cursor.execute(sql_queries_e.DDL_QUERY)\n",
    "    db_pg_conn.commit()\n",
    "    print('Base de Datos Creada Exitosamente')\n",
    "\n",
    "except Exception as ex:\n",
    "    print('Error!!!', ex)"
   ]
  },
  {
   "cell_type": "markdown",
   "metadata": {},
   "source": [
    "### Insertamos datos en la base de datos"
   ]
  },
  {
   "cell_type": "code",
   "execution_count": 27,
   "metadata": {},
   "outputs": [],
   "source": [
    "def insertData2SQL(data_dict, table_name, driver):\n",
    "\n",
    "\n",
    "    df_data = pd.DataFrame.from_records(data_dict)\n",
    "\n",
    "    try:\n",
    "        response = df_data.to_sql(table_name, driver, index = False, if_exists='append')\n",
    "        print(f\"Se han insertado {response} nuevos registros\")\n",
    "    except Exception as ex:\n",
    "        print(ex)"
   ]
  },
  {
   "cell_type": "code",
   "execution_count": 28,
   "metadata": {},
   "outputs": [],
   "source": [
    "driver = f\"\"\"postgresql://{config.get('TRANSACC', 'DB_USER')}:{config.get('TRANSACC', 'DB_PASSWORD')}@{RDS_HOSTNAME}:{config.get('TRANSACC', 'DB_PORT')}/{config.get('TRANSACC', 'DB_NAME')}\"\"\""
   ]
  },
  {
   "cell_type": "code",
   "execution_count": 29,
   "metadata": {},
   "outputs": [],
   "source": [
    "import random\n",
    "from faker import Faker\n",
    "\n",
    "faker = Faker()"
   ]
  },
  {
   "cell_type": "code",
   "execution_count": 31,
   "metadata": {},
   "outputs": [],
   "source": [
    "Cantidad_articulos = 1000\n",
    "Cantidad_personas = 10\n",
    "Cantidad_usuarios = 10000\n",
    "Cantidad_ingresos = 1000\n",
    "Cantidad_detalle_ingreso = 3000\n",
    "Cantidad_ventas = 1000\n",
    "Cantidad_detalle_venta = 3000"
   ]
  },
  {
   "cell_type": "code",
   "execution_count": 32,
   "metadata": {},
   "outputs": [
    {
     "name": "stdout",
     "output_type": "stream",
     "text": [
      "Se han insertado 5 nuevos registros\n"
     ]
    }
   ],
   "source": [
    "categoria = [\n",
    "     {'id_categoria': 10008, 'nombre': 'comestibles', 'descripcion': 'comida', 'estado_categoria':'TRUE'}, \n",
    "     {'id_categoria': 10010, 'nombre': 'AlimentoMascotas', 'descripcion': 'Mascotas', 'estado_categoria':'TRUE'},\n",
    "     {'id_categoria': 10015, 'nombre': 'Golosinas','descripcion': 'Chocolates, dulces', 'estado_categoria':'TRUE'},\n",
    "     {'id_categoria': 10018, 'nombre': 'MuebleCaja','descripcion': 'articulos de muebles de caja', 'estado_categoria':'TRUE'},\n",
    "     {'id_categoria': 10025, 'nombre': 'gorros','descripcion': 'gorros para frio', 'estado_categoria':'FALSE'},\n",
    "]\n",
    "\n",
    "#insertamos data en tabla tipo_transaccione \n",
    "insertData2SQL(categoria, 'categoria', driver)"
   ]
  },
  {
   "cell_type": "code",
   "execution_count": 37,
   "metadata": {},
   "outputs": [
    {
     "name": "stdout",
     "output_type": "stream",
     "text": [
      "Se han insertado 1000 nuevos registros\n"
     ]
    }
   ],
   "source": [
    "data_articulo = []\n",
    "\n",
    "\n",
    "for i in range(Cantidad_articulos):\n",
    "\n",
    "    articulo = {\n",
    "        'id_articulo' : i,\n",
    "        'id_categoria': random.choice(categoria)['id_categoria'],\n",
    "        'codigo': np.random.randint(10000, 99999),\n",
    "        'nombre': faker.word(),\n",
    "        'precio_venta':faker.random_number(digits=4, fix_len=True) / 100,\n",
    "        'stock' : faker.random_number(digits=2),\n",
    "        'descripcion': faker.text(max_nb_chars=200),\n",
    "        'imagen': faker.text(max_nb_chars=20),\n",
    "        'estado_articulo' :faker.random_element(elements=(True, False)),\n",
    "    }\n",
    "\n",
    "    data_articulo.append(articulo)    \n",
    "\n",
    "insertData2SQL(data_articulo,'articulo', driver)"
   ]
  },
  {
   "cell_type": "code",
   "execution_count": 38,
   "metadata": {},
   "outputs": [
    {
     "name": "stdout",
     "output_type": "stream",
     "text": [
      "Se han insertado 10 nuevos registros\n"
     ]
    }
   ],
   "source": [
    "data_persona = []\n",
    "\n",
    "for i in range(Cantidad_personas):\n",
    "    ClientProfile = faker.profile()\n",
    "    \n",
    "    persona = {\n",
    "        'id_persona' : i,\n",
    "        'tipo_persona' : faker.random_element(elements=('Juridica', 'Individual')),\n",
    "        'nombre': ClientProfile['name'],\n",
    "        'tipo_documento': faker.random_element(elements=('DPI', 'Licencia')),\n",
    "        'num_documento': ClientProfile['ssn'],\n",
    "        'direccion': ClientProfile['address'][:20],\n",
    "        'telefono' : np.random.randint(10000000, 99999999),\n",
    "        'email': ClientProfile['mail'][:20],\n",
    "    }\n",
    "\n",
    "    data_persona.append(persona)\n",
    "\n",
    "insertData2SQL(data_persona, 'persona', driver)\n"
   ]
  },
  {
   "cell_type": "code",
   "execution_count": 39,
   "metadata": {},
   "outputs": [
    {
     "name": "stdout",
     "output_type": "stream",
     "text": [
      "Se han insertado 3 nuevos registros\n"
     ]
    }
   ],
   "source": [
    "rol = [\n",
    "     {'id_rol': 14586, 'nombre': 'Gerente', 'descripcion': 'Acceso maximo', 'estado_rol':'TRUE'}, \n",
    "     {'id_rol': 18568, 'nombre': 'Administrador', 'descripcion': 'Acceso medio', 'estado_rol':'TRUE'},\n",
    "     {'id_rol': 16578, 'nombre': 'Cliente','descripcion': 'Acceso minimo', 'estado_rol':'TRUE'},\n",
    "]\n",
    "\n",
    "#insertamos data en tabla tipo_transaccione \n",
    "insertData2SQL(rol, 'rol', driver)"
   ]
  },
  {
   "cell_type": "code",
   "execution_count": 40,
   "metadata": {},
   "outputs": [
    {
     "name": "stdout",
     "output_type": "stream",
     "text": [
      "Se han insertado 1000 nuevos registros\n"
     ]
    }
   ],
   "source": [
    "data_usuario = []\n",
    "\n",
    "\n",
    "for i in range(Cantidad_usuarios):\n",
    "    ClientProfile = faker.profile()\n",
    "\n",
    "    usuario = {\n",
    "        'id_usuario' : i,\n",
    "        'id_rol' : random.choice(rol)['id_rol'],\n",
    "        'nombre': ClientProfile['name'],\n",
    "        'tipo_documento': faker.random_element(elements=('DPI', 'Licencia')),\n",
    "        'num_documento': ClientProfile['ssn'],\n",
    "        'direccion':ClientProfile['address'][:20],\n",
    "        'telefono' : np.random.randint(10000000, 99999999),\n",
    "        'email': ClientProfile['mail'][:20],\n",
    "        'clave': faker.password(length=12, special_chars=True, digits=True, upper_case=True, lower_case=True),\n",
    "        'estado_usuario': faker.random_element(elements=(True, False)),\n",
    "    }\n",
    "\n",
    "    data_usuario.append(usuario)    \n",
    "\n",
    "insertData2SQL(data_usuario,'usuario', driver)"
   ]
  },
  {
   "cell_type": "code",
   "execution_count": 51,
   "metadata": {},
   "outputs": [
    {
     "name": "stdout",
     "output_type": "stream",
     "text": [
      "Se han insertado 1000 nuevos registros\n"
     ]
    }
   ],
   "source": [
    "data_ingreso= []\n",
    "\n",
    "\n",
    "for i in range(Cantidad_ingresos):\n",
    "    ClientProfile = faker.profile()\n",
    "\n",
    "    ingreso = {\n",
    "        'id_ingreso' : i,\n",
    "        'id_proveedor' : random.choice(data_persona)['id_persona'],\n",
    "        'id_usuario' : random.choice(data_usuario)['id_usuario'],\n",
    "        'tipo_comprobante': faker.random_element(elements=('A', 'B')),\n",
    "        'serie_comprobante': faker.pystr(min_chars=7, max_chars=7),\n",
    "        'num_comprobante': faker.random_number(digits=8),\n",
    "        'fecha':faker.date_this_decade(),\n",
    "        'impuesto' : faker.random_number(digits=3, fix_len=True) / 100,\n",
    "        'total': faker.random_number(digits=4, fix_len=True) / 100,\n",
    "        'estado_venta': faker.random_element(elements=(True, False)),\n",
    "    }\n",
    "\n",
    "    data_ingreso.append(ingreso)    \n",
    "\n",
    "insertData2SQL(data_ingreso,'ingreso', driver)"
   ]
  },
  {
   "cell_type": "code",
   "execution_count": 52,
   "metadata": {},
   "outputs": [
    {
     "name": "stdout",
     "output_type": "stream",
     "text": [
      "Se han insertado 1000 nuevos registros\n"
     ]
    }
   ],
   "source": [
    "data_detalle_ingreso= []\n",
    "\n",
    "\n",
    "for i in range(Cantidad_detalle_ingreso):\n",
    "    ClientProfile = faker.profile()\n",
    "\n",
    "    detalle_ingreso = {\n",
    "        'id_detalle_ingreso' : i,\n",
    "        'id_ingreso' : random.choice(data_ingreso)['id_ingreso'],\n",
    "        'id_articulo' : random.choice(data_articulo)['id_articulo'],\n",
    "        'cantidad': faker.random_number(digits=3),#aqui tengo duda que es esto\n",
    "        'precio_unitario': faker.random_number(digits=4, fix_len=True) / 100,\n",
    "    }\n",
    "\n",
    "    data_detalle_ingreso.append(detalle_ingreso)    \n",
    "\n",
    "insertData2SQL(data_detalle_ingreso,'detalle_ingreso', driver)"
   ]
  },
  {
   "cell_type": "code",
   "execution_count": 43,
   "metadata": {},
   "outputs": [
    {
     "name": "stdout",
     "output_type": "stream",
     "text": [
      "Se han insertado 1000 nuevos registros\n"
     ]
    }
   ],
   "source": [
    "data_venta= []\n",
    "\n",
    "\n",
    "for i in range(Cantidad_ventas):\n",
    "    ClientProfile = faker.profile()\n",
    "\n",
    "    venta = {\n",
    "        'id_venta' : i,\n",
    "        'id_cliente' : faker.random_number(digits=6),\n",
    "        'id_usuario' : random.choice(data_usuario)['id_usuario'],\n",
    "        'id_persona' : random.choice(data_persona)['id_persona'],\n",
    "        'tipo_comprobante': faker.random_element(elements=('A', 'B')),#aqui tengo duda que es esto\n",
    "        'serie_comprobante': faker.pystr(min_chars=7, max_chars=7),\n",
    "        'num_comprobante': faker.pystr(min_chars=10, max_chars=10),\n",
    "        'fecha':faker.date_this_decade(),\n",
    "        'impuesto' : faker.random_number(digits=2, fix_len=True) / 100,\n",
    "        'total': faker.random_number(digits=2, fix_len=True) / 100,#aqui tengo duda se suma algo?\n",
    "        'estado_venta': faker.random_element(elements=('A', 'B','C')),#aqui tengo duda ques es esto\n",
    "    }\n",
    "\n",
    "    data_venta.append(venta)    \n",
    "\n",
    "insertData2SQL(data_venta,'venta', driver)"
   ]
  },
  {
   "cell_type": "code",
   "execution_count": 50,
   "metadata": {},
   "outputs": [
    {
     "name": "stdout",
     "output_type": "stream",
     "text": [
      "Se han insertado 1000 nuevos registros\n"
     ]
    }
   ],
   "source": [
    "data_detalle_venta= []\n",
    "\n",
    "\n",
    "for i in range(Cantidad_detalle_venta):\n",
    "    ClientProfile = faker.profile()\n",
    "\n",
    "    detalle_venta = {\n",
    "        'id_detalle_venta' : i,\n",
    "        'id_venta' : random.choice(data_venta)['id_venta'],\n",
    "        'id_articulo' : random.choice(data_articulo)['id_articulo'],\n",
    "        'cantidad': faker.random_number(digits=3),#aqui tengo duda que es esto\n",
    "        'precio': faker.random_number(digits=4, fix_len=True) / 100,\n",
    "        'descuento': faker.random_number(digits=2, fix_len=True) / 100,\n",
    "    }\n",
    "\n",
    "    data_detalle_venta.append(detalle_venta)    \n",
    "\n",
    "insertData2SQL(data_detalle_venta,'detalle_venta', driver)"
   ]
  }
 ],
 "metadata": {
  "kernelspec": {
   "display_name": "Python 3",
   "language": "python",
   "name": "python3"
  },
  "language_info": {
   "codemirror_mode": {
    "name": "ipython",
    "version": 3
   },
   "file_extension": ".py",
   "mimetype": "text/x-python",
   "name": "python",
   "nbconvert_exporter": "python",
   "pygments_lexer": "ipython3",
   "version": "3.10.11"
  }
 },
 "nbformat": 4,
 "nbformat_minor": 2
}
