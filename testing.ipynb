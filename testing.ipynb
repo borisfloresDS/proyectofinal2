{
 "cells": [
  {
   "cell_type": "code",
   "execution_count": 1,
   "id": "b579aa60-dc88-4223-9f2c-26fa17393b0c",
   "metadata": {
    "tags": []
   },
   "outputs": [],
   "source": [
    "import configparser\n",
    "import pandas as pd"
   ]
  },
  {
   "cell_type": "code",
   "execution_count": 2,
   "id": "3773ee81-fd2e-45d9-9e87-54be22401556",
   "metadata": {
    "tags": []
   },
   "outputs": [
    {
     "data": {
      "text/plain": [
       "['config2.cfg']"
      ]
     },
     "execution_count": 2,
     "metadata": {},
     "output_type": "execute_result"
    }
   ],
   "source": [
    "config = configparser.ConfigParser()\n",
    "config.read('config2.cfg')"
   ]
  },
  {
   "cell_type": "code",
   "execution_count": null,
   "id": "80409e1d-4fa7-4b40-a570-31f42a40cf53",
   "metadata": {},
   "outputs": [],
   "source": []
  },
  {
   "cell_type": "code",
   "execution_count": 3,
   "id": "fd4430d2-9a99-4af4-b3d9-a63109970378",
   "metadata": {
    "tags": []
   },
   "outputs": [],
   "source": [
    "import mysql.connector"
   ]
  },
  {
   "cell_type": "code",
   "execution_count": 4,
   "id": "e3925003-9bd9-45db-a72f-af4f830e2bce",
   "metadata": {
    "tags": []
   },
   "outputs": [],
   "source": [
    "RDS_HOSTNAME = 'e-dreams-dwh.ch62gk4wowqh.us-east-1.rds.amazonaws.com'"
   ]
  },
  {
   "cell_type": "code",
   "execution_count": 5,
   "id": "1bc6848d-7b8d-42b9-95d5-ee742ce299d9",
   "metadata": {
    "tags": []
   },
   "outputs": [],
   "source": [
    "mysql_driver = f\"\"\"mysql+pymysql://{config.get('DWH', 'DWH_USER')}:{config.get('DWH', 'DWH_PASSWORD')}@{RDS_HOSTNAME}:{config.get('DWH', 'DWH_PORT')}/{config.get('DWH', 'DWH_NAME')}\"\"\"  "
   ]
  },
  {
   "cell_type": "code",
   "execution_count": 6,
   "id": "385b5256-5c7d-4bd1-8702-f1efc934a02c",
   "metadata": {
    "tags": []
   },
   "outputs": [
    {
     "data": {
      "text/html": [
       "<div>\n",
       "<style scoped>\n",
       "    .dataframe tbody tr th:only-of-type {\n",
       "        vertical-align: middle;\n",
       "    }\n",
       "\n",
       "    .dataframe tbody tr th {\n",
       "        vertical-align: top;\n",
       "    }\n",
       "\n",
       "    .dataframe thead th {\n",
       "        text-align: right;\n",
       "    }\n",
       "</style>\n",
       "<table border=\"1\" class=\"dataframe\">\n",
       "  <thead>\n",
       "    <tr style=\"text-align: right;\">\n",
       "      <th></th>\n",
       "      <th>id_articulo</th>\n",
       "      <th>id_categoria</th>\n",
       "      <th>codigo</th>\n",
       "      <th>nombre</th>\n",
       "      <th>precio_venta</th>\n",
       "      <th>descripcion</th>\n",
       "      <th>imagen</th>\n",
       "      <th>nombre_categoria</th>\n",
       "      <th>descripcion_categoria</th>\n",
       "    </tr>\n",
       "  </thead>\n",
       "  <tbody>\n",
       "    <tr>\n",
       "      <th>0</th>\n",
       "      <td>0</td>\n",
       "      <td>10010</td>\n",
       "      <td>66883</td>\n",
       "      <td>among</td>\n",
       "      <td>58.97</td>\n",
       "      <td>Hotel off security design second. Born at cour...</td>\n",
       "      <td>Agree himself.</td>\n",
       "      <td>AlimentoMascotas</td>\n",
       "      <td>Mascotas</td>\n",
       "    </tr>\n",
       "    <tr>\n",
       "      <th>1</th>\n",
       "      <td>1</td>\n",
       "      <td>10015</td>\n",
       "      <td>86212</td>\n",
       "      <td>run</td>\n",
       "      <td>94.42</td>\n",
       "      <td>Entire air final because relationship. Minute ...</td>\n",
       "      <td>Check sense support.</td>\n",
       "      <td>Golosinas</td>\n",
       "      <td>Chocolates, dulces</td>\n",
       "    </tr>\n",
       "    <tr>\n",
       "      <th>2</th>\n",
       "      <td>2</td>\n",
       "      <td>10015</td>\n",
       "      <td>84042</td>\n",
       "      <td>agreement</td>\n",
       "      <td>93.58</td>\n",
       "      <td>Material appear there recognize. Level perhaps...</td>\n",
       "      <td>Enough avoid with.</td>\n",
       "      <td>Golosinas</td>\n",
       "      <td>Chocolates, dulces</td>\n",
       "    </tr>\n",
       "    <tr>\n",
       "      <th>3</th>\n",
       "      <td>3</td>\n",
       "      <td>10025</td>\n",
       "      <td>61637</td>\n",
       "      <td>treat</td>\n",
       "      <td>74.02</td>\n",
       "      <td>Tax senior half marriage well. Thousand decide...</td>\n",
       "      <td>Positive.</td>\n",
       "      <td>gorros</td>\n",
       "      <td>gorros para frio</td>\n",
       "    </tr>\n",
       "    <tr>\n",
       "      <th>4</th>\n",
       "      <td>4</td>\n",
       "      <td>10025</td>\n",
       "      <td>40882</td>\n",
       "      <td>image</td>\n",
       "      <td>41.02</td>\n",
       "      <td>Report strategy soldier prevent will executive...</td>\n",
       "      <td>Develop mention.</td>\n",
       "      <td>gorros</td>\n",
       "      <td>gorros para frio</td>\n",
       "    </tr>\n",
       "    <tr>\n",
       "      <th>...</th>\n",
       "      <td>...</td>\n",
       "      <td>...</td>\n",
       "      <td>...</td>\n",
       "      <td>...</td>\n",
       "      <td>...</td>\n",
       "      <td>...</td>\n",
       "      <td>...</td>\n",
       "      <td>...</td>\n",
       "      <td>...</td>\n",
       "    </tr>\n",
       "    <tr>\n",
       "      <th>995</th>\n",
       "      <td>995</td>\n",
       "      <td>10018</td>\n",
       "      <td>36947</td>\n",
       "      <td>career</td>\n",
       "      <td>37.44</td>\n",
       "      <td>Ask garden method last than nothing suddenly a...</td>\n",
       "      <td>Protect want then.</td>\n",
       "      <td>MuebleCaja</td>\n",
       "      <td>articulos de muebles de caja</td>\n",
       "    </tr>\n",
       "    <tr>\n",
       "      <th>996</th>\n",
       "      <td>996</td>\n",
       "      <td>10008</td>\n",
       "      <td>74981</td>\n",
       "      <td>finally</td>\n",
       "      <td>45.04</td>\n",
       "      <td>Resource small prepare send stage church tradi...</td>\n",
       "      <td>Specific near land.</td>\n",
       "      <td>comestibles</td>\n",
       "      <td>comida</td>\n",
       "    </tr>\n",
       "    <tr>\n",
       "      <th>997</th>\n",
       "      <td>997</td>\n",
       "      <td>10025</td>\n",
       "      <td>39489</td>\n",
       "      <td>nice</td>\n",
       "      <td>72.40</td>\n",
       "      <td>Evidence issue field subject seem film. Few to...</td>\n",
       "      <td>Loss yard once help.</td>\n",
       "      <td>gorros</td>\n",
       "      <td>gorros para frio</td>\n",
       "    </tr>\n",
       "    <tr>\n",
       "      <th>998</th>\n",
       "      <td>998</td>\n",
       "      <td>10025</td>\n",
       "      <td>27450</td>\n",
       "      <td>central</td>\n",
       "      <td>28.28</td>\n",
       "      <td>Song minute sell identify focus among media. H...</td>\n",
       "      <td>Teach relationship.</td>\n",
       "      <td>gorros</td>\n",
       "      <td>gorros para frio</td>\n",
       "    </tr>\n",
       "    <tr>\n",
       "      <th>999</th>\n",
       "      <td>999</td>\n",
       "      <td>10010</td>\n",
       "      <td>29671</td>\n",
       "      <td>create</td>\n",
       "      <td>63.95</td>\n",
       "      <td>Treatment else very. Under alone than against ...</td>\n",
       "      <td>Shoulder support.</td>\n",
       "      <td>AlimentoMascotas</td>\n",
       "      <td>Mascotas</td>\n",
       "    </tr>\n",
       "  </tbody>\n",
       "</table>\n",
       "<p>1000 rows × 9 columns</p>\n",
       "</div>"
      ],
      "text/plain": [
       "     id_articulo  id_categoria codigo     nombre  precio_venta  \\\n",
       "0              0         10010  66883      among         58.97   \n",
       "1              1         10015  86212        run         94.42   \n",
       "2              2         10015  84042  agreement         93.58   \n",
       "3              3         10025  61637      treat         74.02   \n",
       "4              4         10025  40882      image         41.02   \n",
       "..           ...           ...    ...        ...           ...   \n",
       "995          995         10018  36947     career         37.44   \n",
       "996          996         10008  74981    finally         45.04   \n",
       "997          997         10025  39489       nice         72.40   \n",
       "998          998         10025  27450    central         28.28   \n",
       "999          999         10010  29671     create         63.95   \n",
       "\n",
       "                                           descripcion                imagen  \\\n",
       "0    Hotel off security design second. Born at cour...        Agree himself.   \n",
       "1    Entire air final because relationship. Minute ...  Check sense support.   \n",
       "2    Material appear there recognize. Level perhaps...    Enough avoid with.   \n",
       "3    Tax senior half marriage well. Thousand decide...             Positive.   \n",
       "4    Report strategy soldier prevent will executive...      Develop mention.   \n",
       "..                                                 ...                   ...   \n",
       "995  Ask garden method last than nothing suddenly a...    Protect want then.   \n",
       "996  Resource small prepare send stage church tradi...   Specific near land.   \n",
       "997  Evidence issue field subject seem film. Few to...  Loss yard once help.   \n",
       "998  Song minute sell identify focus among media. H...   Teach relationship.   \n",
       "999  Treatment else very. Under alone than against ...     Shoulder support.   \n",
       "\n",
       "     nombre_categoria         descripcion_categoria  \n",
       "0    AlimentoMascotas                      Mascotas  \n",
       "1           Golosinas            Chocolates, dulces  \n",
       "2           Golosinas            Chocolates, dulces  \n",
       "3              gorros              gorros para frio  \n",
       "4              gorros              gorros para frio  \n",
       "..                ...                           ...  \n",
       "995        MuebleCaja  articulos de muebles de caja  \n",
       "996       comestibles                        comida  \n",
       "997            gorros              gorros para frio  \n",
       "998            gorros              gorros para frio  \n",
       "999  AlimentoMascotas                      Mascotas  \n",
       "\n",
       "[1000 rows x 9 columns]"
      ]
     },
     "execution_count": 6,
     "metadata": {},
     "output_type": "execute_result"
    }
   ],
   "source": [
    "query = 'SELECT * FROM dim_articulo;'\n",
    "dim_articulo = pd.read_sql(query, mysql_driver)\n",
    "dim_articulo"
   ]
  },
  {
   "cell_type": "code",
   "execution_count": null,
   "id": "5f16222a-7ff3-492e-ae43-28715f20c12b",
   "metadata": {},
   "outputs": [],
   "source": []
  }
 ],
 "metadata": {
  "kernelspec": {
   "display_name": "Python 3 (ipykernel)",
   "language": "python",
   "name": "python3"
  },
  "language_info": {
   "codemirror_mode": {
    "name": "ipython",
    "version": 3
   },
   "file_extension": ".py",
   "mimetype": "text/x-python",
   "name": "python",
   "nbconvert_exporter": "python",
   "pygments_lexer": "ipython3",
   "version": "3.11.5"
  }
 },
 "nbformat": 4,
 "nbformat_minor": 5
}
